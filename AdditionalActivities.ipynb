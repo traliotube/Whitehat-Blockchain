{
 "cells": [
  {
   "cell_type": "code",
   "execution_count": 1,
   "metadata": {},
   "outputs": [
    {
     "name": "stdout",
     "output_type": "stream",
     "text": [
      "4562\n",
      "Reverse of 4562 is 2654\n"
     ]
    }
   ],
   "source": [
    "import math\n",
    "\n",
    "#a = int(input(\"Enter Number\"))\n",
    "#c = a\n",
    "#print(a)\n",
    "#d = \"\"\n",
    "#\n",
    "#for i in range(1,len(str(a))+1):\n",
    "#    d = d + str(a%10)\n",
    "#    a = math.floor(a/10)\n",
    "#\n",
    "#print(f\"Reverse of {c} is {d}\")"
   ]
  },
  {
   "cell_type": "code",
   "execution_count": 43,
   "metadata": {},
   "outputs": [
    {
     "name": "stdout",
     "output_type": "stream",
     "text": [
      "Actual: 141, 4920\n",
      "Challenge: 141, 4920\n"
     ]
    }
   ],
   "source": [
    "import math\n",
    "n = int(input(\"Enter Numerator\"))\n",
    "d = int(input(\"Enter Denominator\"))\n",
    "\n",
    "n = n\n",
    "print(f\"Actual: {math.floor(n/d)}, {n % d}\")\n",
    "\n",
    "\n",
    "i = 0\n",
    "while n > 0:\n",
    "    i += 1\n",
    "    n -= d\n",
    "\n",
    "if n == 0:\n",
    "    print(f\"Challenge: {i}, {abs(n)}\")\n",
    "else:\n",
    "    print(f\"Challenge: {i-1}, {n+d}\")"
   ]
  }
 ],
 "metadata": {
  "kernelspec": {
   "display_name": "Python 3 (ipykernel)",
   "language": "python",
   "name": "python3"
  },
  "language_info": {
   "codemirror_mode": {
    "name": "ipython",
    "version": 3
   },
   "file_extension": ".py",
   "mimetype": "text/x-python",
   "name": "python",
   "nbconvert_exporter": "python",
   "pygments_lexer": "ipython3",
   "version": "3.10.13"
  }
 },
 "nbformat": 4,
 "nbformat_minor": 2
}
